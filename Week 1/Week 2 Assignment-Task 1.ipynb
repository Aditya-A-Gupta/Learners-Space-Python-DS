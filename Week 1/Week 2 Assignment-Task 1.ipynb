{
 "cells": [
  {
   "cell_type": "code",
   "execution_count": 1,
   "id": "79952a1f",
   "metadata": {},
   "outputs": [],
   "source": [
    "import numpy as np"
   ]
  },
  {
   "cell_type": "code",
   "execution_count": 2,
   "id": "c00c1a08",
   "metadata": {},
   "outputs": [
    {
     "name": "stdout",
     "output_type": "stream",
     "text": [
      "Array: [[34 17 72 26 46]\n",
      " [86 28 38 23 69]\n",
      " [93 58 90 69 20]\n",
      " [54  2 22 88 18]\n",
      " [18 57 27 19 94]]\n"
     ]
    }
   ],
   "source": [
    "array = np.random.randint(1, 101, size=(5, 5))\n",
    "print('Array:',array)"
   ]
  },
  {
   "cell_type": "code",
   "execution_count": 3,
   "id": "c2107426",
   "metadata": {},
   "outputs": [
    {
     "name": "stdout",
     "output_type": "stream",
     "text": [
      "Middle Element: 90\n"
     ]
    }
   ],
   "source": [
    "mid = array[2, 2]\n",
    "print(\"Middle Element:\", mid)"
   ]
  },
  {
   "cell_type": "code",
   "execution_count": 4,
   "id": "7c6c7efa",
   "metadata": {},
   "outputs": [
    {
     "name": "stdout",
     "output_type": "stream",
     "text": [
      "\n",
      "Mean of Each Row: [39.  48.8 66.  36.8 43. ]\n"
     ]
    }
   ],
   "source": [
    "means = array.mean(axis=1)\n",
    "print(\"\\nMean of Each Row:\", means)"
   ]
  },
  {
   "cell_type": "code",
   "execution_count": 5,
   "id": "99d8067d",
   "metadata": {},
   "outputs": [
    {
     "name": "stdout",
     "output_type": "stream",
     "text": [
      "Elements Greater than Overall Mean are: [72 86 69 93 58 90 69 54 88 57 94]\n"
     ]
    }
   ],
   "source": [
    "mean = array.mean()\n",
    "greater_than_mean = array[array > mean]\n",
    "print(\"Elements Greater than Overall Mean are:\", greater_than_mean)"
   ]
  },
  {
   "cell_type": "code",
   "execution_count": 6,
   "id": "bb632df5",
   "metadata": {},
   "outputs": [
    {
     "name": "stdout",
     "output_type": "stream",
     "text": [
      "\n",
      "Spiral Order Elements: [34, 17, 72, 26, 46, 69, 20, 18, 94, 19, 27, 57, 18, 54, 93, 86, 28, 38, 23, 69, 88, 22, 2, 58, 90]\n"
     ]
    }
   ],
   "source": [
    "def numpy_spiral_order(matrix):\n",
    "    spiral_order = []\n",
    "    while matrix.size:\n",
    "        spiral_order.extend(matrix[0])\n",
    "        matrix = matrix[1:].T[::-1]\n",
    "    return spiral_order\n",
    "\n",
    "spiral_order_elements = numpy_spiral_order(array)\n",
    "print(\"\\nSpiral Order Elements:\", spiral_order_elements)"
   ]
  },
  {
   "cell_type": "code",
   "execution_count": null,
   "id": "456d9e4d",
   "metadata": {},
   "outputs": [],
   "source": []
  }
 ],
 "metadata": {
  "kernelspec": {
   "display_name": "Python 3 (ipykernel)",
   "language": "python",
   "name": "python3"
  },
  "language_info": {
   "codemirror_mode": {
    "name": "ipython",
    "version": 3
   },
   "file_extension": ".py",
   "mimetype": "text/x-python",
   "name": "python",
   "nbconvert_exporter": "python",
   "pygments_lexer": "ipython3",
   "version": "3.11.5"
  }
 },
 "nbformat": 4,
 "nbformat_minor": 5
}
